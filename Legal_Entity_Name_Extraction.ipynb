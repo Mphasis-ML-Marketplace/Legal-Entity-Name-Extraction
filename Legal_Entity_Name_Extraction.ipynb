{
 "cells": [
  {
   "attachments": {},
   "cell_type": "markdown",
   "metadata": {},
   "source": [
    "# Mphasis DeepInsights Legal Entity Name Extractor\n",
    "\n",
    "Mphasis DeepInsights legal entity name extraction is an optimal way to identify and classify legal organization name from their general names in unstructured text. Named entity recognition (NER), is an information extraction technique to identify key elements from text and classifies them into predefined categories. This solution leverages pretrained spacy models to extract organization tags from a given input text.  The input can have a maximum of 50000 characters and gives output as a list of dictionaries containing legal as well as generally pronounced names of any organization.\n",
    "\n",
    "### Prerequisite\n",
    "\n",
    "To run this algorithm you need to have access to the following AWS Services:\n",
    "- Access to AWS SageMaker and the model package.\n",
    "- An S3 bucket to specify input/output.\n",
    "- Role for AWS SageMaker to access input/output from S3.\n",
    "\n",
    "This sample notebook shows you how to deploy Mphasis DeepInsights Legal Entity Name Extraction Sentiment Analyzer using Amazon SageMaker.\n",
    "\n",
    "> **Note**: This is a reference notebook and it cannot run unless you make changes suggested in the notebook.\n",
    "\n",
    "#### Pre-requisites:\n",
    "1. **Note**: This notebook contains elements which render correctly in Jupyter interface. Open this notebook from an Amazon SageMaker Notebook Instance or Amazon SageMaker Studio.\n",
    "1. Ensure that IAM role used has **AmazonSageMakerFullAccess**\n",
    "1. To deploy this ML model successfully, ensure that:\n",
    "    1. Either your IAM role has these three permissions and you have authority to make AWS Marketplace subscriptions in the AWS account used: \n",
    "        1. **aws-marketplace:ViewSubscriptions**\n",
    "        1. **aws-marketplace:Unsubscribe**\n",
    "        1. **aws-marketplace:Subscribe**  \n",
    "    2. or your AWS account has a subscription to Mphasis DeepInsights Legal Entity Name Extraction. If so, skip step: [Subscribe to the model package](#1.-Subscribe-to-the-model-package)\n",
    "\n",
    "#### Contents:\n",
    "1. [Subscribe to the model package](#1.-Subscribe-to-the-model-package)\n",
    "2. [Create an endpoint and perform real-time inference](#2.-Create-an-endpoint-and-perform-real-time-inference)\n",
    "   1. [Create an endpoint](#A.-Create-an-endpoint)\n",
    "   2. [Create input payload](#B.-Create-input-payload)\n",
    "   3. [Perform real-time inference](#C.-Perform-real-time-inference)\n",
    "   4. [Output Result](#D.-Output-Result)\n",
    "   5. [Delete the endpoint](#E.-Delete-the-endpoint)\n",
    "3. [Perform batch inference](#3.-Perform-batch-inference) \n",
    "4. [Clean-up](#4.-Clean-up)\n",
    "    1. [Delete the model](#A.-Delete-the-model)\n",
    "    2. [Unsubscribe to the listing (optional)](#B.-Unsubscribe-to-the-listing-(optional))\n",
    "    \n",
    "\n",
    "#### Usage instructions\n",
    "You can run this notebook one cell at a time (By using Shift+Enter for running a cell)."
   ]
  },
  {
   "cell_type": "markdown",
   "metadata": {},
   "source": [
    "### 1. Subscribe to the model package"
   ]
  },
  {
   "cell_type": "markdown",
   "metadata": {},
   "source": [
    "To subscribe to the model package:\n",
    "1. Open the model package listing page Mphasis DeepInsights Legal Entity Name Extraction\n",
    "1. On the AWS Marketplace listing, click on the **Continue to subscribe** button.\n",
    "1. On the **Subscribe to this software** page, review and click on **\"Accept Offer\"** if you and your organization agrees with EULA, pricing, and support terms. \n",
    "1. Once you click on **Continue to configuration button** and then choose a **region**, you will see a **Product Arn** displayed. This is the model package ARN that you need to specify while creating a deployable model using Boto3. Copy the ARN corresponding to your region and specify the same in the following cell."
   ]
  },
  {
   "cell_type": "code",
   "execution_count": 1,
   "metadata": {},
   "outputs": [],
   "source": [
    "model_package_arn='arn:aws:sagemaker:us-east-2:786796469737:model-package/legal-entity-v2'"
   ]
  },
  {
   "cell_type": "code",
   "execution_count": 2,
   "metadata": {},
   "outputs": [],
   "source": [
    "import pandas as pd\n",
    "import numpy as np\n",
    "import json\n",
    "import os\n",
    "import boto3\n",
    "from zipfile import ZipFile\n",
    "import uuid\n",
    "from sagemaker import ModelPackage\n",
    "import sagemaker as sage\n",
    "from sagemaker import get_execution_role\n",
    "from sagemaker import ModelPackage\n",
    "from IPython.display import Image, display"
   ]
  },
  {
   "cell_type": "code",
   "execution_count": null,
   "metadata": {},
   "outputs": [],
   "source": [
    "role = get_execution_role()\n",
    "\n",
    "sagemaker_session = sage.Session()\n",
    "\n",
    "bucket=sagemaker_session.default_bucket()\n",
    "bucket"
   ]
  },
  {
   "cell_type": "markdown",
   "metadata": {},
   "source": [
    "### 2. Create an endpoint and perform real-time inference"
   ]
  },
  {
   "cell_type": "markdown",
   "metadata": {},
   "source": [
    "If you want to understand how real-time inference with Amazon SageMaker works, see [Documentation](https://docs.aws.amazon.com/sagemaker/latest/dg/how-it-works-hosting.html)."
   ]
  },
  {
   "cell_type": "code",
   "execution_count": 4,
   "metadata": {},
   "outputs": [],
   "source": [
    "model_name='legal-entity-1'\n",
    "\n",
    "content_type='text/plain'\n",
    "\n",
    "real_time_inference_instance_type='ml.m5.large'\n",
    "batch_transform_inference_instance_type='ml.m5.large'"
   ]
  },
  {
   "cell_type": "markdown",
   "metadata": {},
   "source": [
    "#### A. Create an endpoint"
   ]
  },
  {
   "cell_type": "code",
   "execution_count": 5,
   "metadata": {},
   "outputs": [],
   "source": [
    "def predict_wrapper(endpoint, session):\n",
    "    return sage.predictor.RealTimePredictor(endpoint, session,content_type)\n",
    "\n",
    "#create a deployable model from the model package.\n",
    "\n",
    "model = ModelPackage(role=role,\n",
    "                    model_package_arn=model_package_arn,\n",
    "                    sagemaker_session=sagemaker_session,\n",
    "                    predictor_cls=predict_wrapper)"
   ]
  },
  {
   "cell_type": "code",
   "execution_count": 6,
   "metadata": {},
   "outputs": [
    {
     "name": "stdout",
     "output_type": "stream",
     "text": [
      "------!"
     ]
    },
    {
     "name": "stderr",
     "output_type": "stream",
     "text": [
      "The class RealTimePredictor has been renamed in sagemaker>=2.\n",
      "See: https://sagemaker.readthedocs.io/en/stable/v2.html for details.\n"
     ]
    }
   ],
   "source": [
    "predictor = model.deploy(1, real_time_inference_instance_type, endpoint_name=model_name)"
   ]
  },
  {
   "cell_type": "markdown",
   "metadata": {},
   "source": [
    "Once endpoint has been created, you would be able to perform real-time inference."
   ]
  },
  {
   "cell_type": "markdown",
   "metadata": {},
   "source": [
    "#### B. Create input payload"
   ]
  },
  {
   "cell_type": "markdown",
   "metadata": {},
   "source": [
    "#### Instructions\n",
    "\n",
    "    1) The input has to be a '.txt' file with 'utf-8' encoding.\n",
    "\n",
    "    2) input file should not contain more than 50000 characters"
   ]
  },
  {
   "cell_type": "code",
   "execution_count": 1,
   "metadata": {},
   "outputs": [],
   "source": [
    "with open('sample_input.txt', 'rb') as file_stream:\n",
    "    input_text = file_stream.read().decode('utf-8')"
   ]
  },
  {
   "cell_type": "code",
   "execution_count": 2,
   "metadata": {},
   "outputs": [
    {
     "name": "stdout",
     "output_type": "stream",
     "text": [
      "'Meta Platforms Inc., doing business as Meta and formerly named Facebook Inc., and Facebook Inc., is an American multinational technology conglomerate based in Menlo Park, California. The company owns Facebook, Instagram, and WhatsApp, among other products and services. Meta is one of the world most valuable companies. It is considered one of the Big Five American information technology companies, alongside Alphabet, Amazon, Apple, and Microsoft. Meta products and services include Facebook, Messenger, Facebook Watch, and Meta Portal. It has also acquired Oculus, Giphy, Mapillary, Kustomer, Presize and has a . % stake in Jio Platforms. In , the company generated . % of its revenue from the sale of advertising. In October , the parent company of Facebook changed its name from Facebook Inc., to Meta Platforms Inc., to \"reflect its focus on building the metaverse\". According to Meta, the \"metaverse\" refers to the integrated environment that links all of the company products and services. Facebook filed for an initial public offering (IPO) on January , . The preliminary prospectus stated that the company sought to raise $ billion, had million monthly active users, and a website accruing . billion likes and comments daily. After the IPO, Zuckerberg would retain a % ownership share in Facebook and would own % of the voting shares. Underwriters valued the shares at $ each, valuing the company at $ billion, the largest valuation to date for a newly public company. On May , one day before the IPO, Facebook announced it would sell % more shares than originally planned due to high demand. The IPO raised $ billion, making it the third-largest in US history (slightly ahead of AT&T Wireless and behind only General Motors and Visa). The stock price left the company with a higher market capitalization than all but a few U.S. corporations—surpassing heavyweights such as Amazon, McDonalds, Disney, and Kraft Foods—and made Zuckerberg stock worth $ billion. The New York Times stated that the offering overcame questions about Facebook difficulties in attracting advertisers to transform the company into a \"must-own stock\". Jimmy Lee of JPMorgan Chase described it as \"the next great blue-chip\". Writers at TechCrunch, on the other hand, expressed skepticism, stating, \"Thats a big multiple to live up to, and Facebook will likely need to add bold new revenue streams to justify the mammoth valuation\". Trading in the stock, which began on May , was delayed that day due to technical problems with the Nasdaq exchange. The stock struggled to stay above the IPO price for most of the day, forcing underwriters to buy back shares to support the price. At closing bell, shares were valued at $ . , only $ . above the IPO price and down $ . from the opening bell value. The opening was widely described by the financial press as a disappointment. The stock nonetheless set a new record for trading volume of an IPO. On May , , the stock ended its first full week of trading at $ . , a . % decline. On May , , regulators from Wall Streets Financial Industry Regulatory Authority announced that they had begun to investigate whether banks underwriting Facebook had improperly shared information only with select clients rather than the general public. Massachusetts Secretary of State William Galvin subpoenaed Morgan Stanley over the same issue. The allegations sparked \"fury\" among some investors and led to the immediate filing of several lawsuits, one of them a class action suit claiming more than $ . billion in losses due to the IPO. Bloomberg estimated that retail investors may have lost approximately $ million on Facebook stock since its debut. Standard & Poor added Facebook to its S&P index on December , . On May , , Zuckerberg announced that the company would be changing its internal motto from \"Move fast and break things\" to \"Move fast with stable infrastructure\". The earlier motto had been described as Zuckerbergs \"prime directive to his developers and team\" in a interview in Business Insider, in which he also said, \"Unless you are breaking stuff, you are not moving fast enough.\" In , Oculus lead Jason Rubin sent his -page vision document titled The Metaverse to Facebook leadership. In the document, Rubin acknowledges that Facebook virtual reality business did not catch on as expected, despite the hundreds of millions of dollars spent on content for early adopters. He also urged the company to execute fast and go big on the vision, to shut out HTC, Apple, Google and other competitors in the VR space. Regarding other players participation in the metaverse vision, he wrote: “Let’s build the Metaverse to keep them from being in the VR business in a meaningful way at all.” In May , Facebook founded Libra Networks, reportedly to develop their own stablecoin cryptocurrency. In recent developments it has been reported that Libra is being supported by financial companies like Visa, Mastercard, PayPal and Uber. The consortium of companies is expected to pool in $ million each to fund the launch of the cryptocurrency coin named Libra. Depending on when it receives approval from the Swiss Financial Market Supervisory authority to operate as a payments service, the Libra Association plans to launch a limited format cryptocurrency in . Soon after the rebranding of the company, in early February , Meta reported a greater-than-expected decline in profits in the fourth quarter of . The company reported no growth in monthly users, and indicated it expected revenue growth to stall. The company also expected measures taken by Apple Inc. to protect user privacy to cost it some $ billion in advertisement revenue, an amount equal to roughly % of its revenue for . In meeting with Meta staff the day after earnings were reported, Zuckerberg blamed competition for user attention, particularly from video-based apps like TikTok, for the poor financial performance. The % reduction in the company share price which occurred in reaction to the news eliminated some $ billion of value from Meta market capitalization. Bloomberg referred to the decline as \"[...] an epic rout that, in its sheer scale, is unlike anything Wall Street or Silicon Valley has ever seen\". Mark Zuckerberg\\'s net worth fell by as much as $ billion due to the decline. Zuckerberg controls % of Meta, and the holding makes up the bulk of his wealth. According to published reports by Bloomberg News on March , , Meta turned over data such as phone numbers, physical addresses, and IP addresses to hackers posing as law enforcement officials using forged documents. The law enforcement requests sometimes included forged signatures of real or fictional officials. When asked about the allegations, a Meta representative said, \"We review every data request for legal sufficiency and use advanced systems and processes to validate law enforcement requests and detect abuse.\" In June , Sheryl Sandberg, the company COO of years, announced she would step down from the role in the fall of the same year. Zuckerberg stated that Javier Olivan would replace Sandberg, though in a \"more traditional\" role. In July , Meta experienced the first year-on-year revenue decline in its history. Its total revenue slipped by % to $ . bn. Many analysts and journalists accredit the loss to its advertising business, which has been limited by Apple App Tracking Transparency feature and the number of people who have opted not to be tracked by Meta apps. Zuckerberg also accredited the decline to increasing competition from TikTok. Throughout its existence, Facebook Inc.  has acquired multiple companies (often identified as talent acquisitions). One of its first major acquisitions was in April , when it acquired Instagram for approximately US$ billion in cash and stock. In October , Facebook Inc. acquired Onavo, an Israeli mobile web analytics company. In February , Facebook Inc. announced it would buy mobile messaging company WhatsApp for US$ billion in cash and stock. Later that year, Facebook bought Oculus VR for $ . billion in stock and cash, which released its first consumer virtual reality headset in . In late November , Facebook Inc. announced the acquisition of game developer Beat Games, responsible for developing one of the year most popular VR titles, Beat Saber. In April , Facebook Inc. announced a $ . -billion deal with the Indian multinational conglomerate Reliance Industries to purchase approximately percent of Jio Platforms, Reliance digital media and services entity. In May , Facebook Inc. announced it had acquired Giphy for a reported cash price of $ million. It will be integrated with the Instagram team. However, in August , UK Competition and Markets Authority (CMA) stated that Facebook Inc. might have to sell Giphy, after an investigation found that the deal between the two companies would harm competition in display advertising market. Facebook Inc. was fined $ million by CMA for deliberately failing to report all information regarding the acquisition and the ongoing antitrust investigation. In November , Facebook Inc. announced that it planned to purchase the customer-service platform and chatbot specialist startup Kustomer to promote companies to use their platform for business. It has been reported that Kustomer valued at slightly over $ billion. The deal was closed in February after regulatory approval. In , Facebook Inc. spent $ . million on lobbying, hiring lobbyists. In , it had spent $ . million on lobbying and had a team of lobbyists, up from $ . million and lobbyists in . Facebook was the largest spender of lobbying money among the Big Tech companies in . Numerous lawsuits have been filed against the company, both when it was known as Facebook Inc., and as Meta Platforms. In March , the Office of the Australian Information Commissioner (OAIC) sued Facebook, for significant and persistent infringements of the rule on privacy involving the Cambridge Analytica fiasco. Every violation of the Privacy Act is subject to a theoretical cumulative liability of $ . million. The OAIC estimated that a total of , Australians had been exposed. On December , , the U.S. Federal Trade Commission and states (excluding Alabama, Georgia, South Carolina, and South Dakota), the District of Columbia and the territory of Guam, launched Federal Trade Commission v. Facebook as an antitrust lawsuit against Facebook. The lawsuit concerns Facebook acquisition of two competitors—Instagram and WhatsApp—and the ensuing monopolistic situation. FTC alleges that Facebook holds monopolistic power in the US social networking market and seeks to force the company to divest from Instagram and WhatsApp to break up the conglomerate. William Kovacic, a former chairman of the Federal Trade Commission, argued the case will be difficult to win as it would require the government to create a counterfactual argument of an internet where the Facebook-WhatsApp-Instagram entity did not exist, and prove that harmed competition or consumers. On December , , a court in Russia fined Meta for $ million after the company declined to remove unspecified banned content. The fine was reportedly tied to the company annual revenue in the country. In May , a lawsuit wasfiled in Kenya against Meta and its local outsourcing company Sama. Allegedly, Meta has poor working conditions in Kenya for workers moderating Facebook posts. The lawsuit seeks financial compensation and an order that outsourced moderators be given the same health benefits and pay scale as Meta employees. In June , lawsuits were filed across the US over the allege that excessive exposure to platforms including Facebook and Instagram has let to attempted or actual suicides, eating disorders and sleeplessness, among other issues. The litigation follows a former Facebook employee testimony in Congress that the company refused to take responsibility. The company noted that tools have been developed for parents to keep track of their children activity on Instagram and set time limits in addition to Meta “Take a break” reminders. In addition, the company is providing resources specific to eating disorders as well as developing AI to ensure that children under the age of can not sign up for Facebook or Instagram. In June , Meta settled a lawsuit with the US Department of Justice. The lawsuit, which was filed in , alleged that the company enabled housing discrimination through targeted advertising, as it allowed home owners and landlords to run housing ads excluding people based on sex, race, religion, and other characteristics. The US Department of Justice stated that this was in violation of the Fair Housing Act. Meta was handed a penalty of $ , and given until December , , to shadow the algorithm tool. Following a period of intense scrutiny and damaging whistleblower leaks, news started to emerge on October , , about Facebook plan to rebrand the company and to change its name. In the Q Earnings Call, on October , Mark Zuckerberg discussed the ongoing criticism of the company social services and the way it operates, and pointed to the pivoting efforts to building the metaverse – without mentioning the rebranding and the name change. The metaverse vision and the name change from Facebook Inc. to Meta Platforms was introduced at Facebook Connect on October , . Based on Facebook\\'s PR campaign, the name change reflects the company shifting long term focus of building the metaverse, a digital extension of the physical world by social media, virtual reality and augmented reality features. \"Meta\" had been registered as a trademark in the United States in (after an initial filing in ) for marketing, advertising, and computer services, by a Canadian company that provided big data analysis of scientific literature. This company had been acquired in by the Chan Zuckerberg Initiative (CZI), a foundation established by Zuckerberg and his wife Priscilla Chan, and became one of their projects. Following the Facebook/Meta rebranding announcement, CZI announced that it had already decided to deprioritize the earlier Meta project, that it would be transferring its rights to the name to Meta Platforms, and that the project would be sunset in . Meta key management consists of: As of December [update], Meta had , employees, an increase of . % year-over-year. As of January , Meta board consisted of the following directors; Early Facebook investor and former Zuckerberg mentor Roger McNamee described Facebook as having \"the most centralized decision-making structure I have ever encountered in a large company.\" Nathan Schneider, a professor of media studies at the University of Colorado Boulder argued for transforming Facebook into a platform cooperative owned and governed by the users. Facebook co-founder Chris Hughes has stated that CEO Mark Zuckerberg has too much power, that the company is now a monopoly, and that, as a result, it should be split into multiple smaller companies. In an op-ed in The New York Times, Hughes said he was concerned that Zuckerberg had surrounded himself with a team that did not challenge him, and that it is the U.S. government\\'s job to hold him accountable and curb his \"unchecked power.\" He also said that \"Mark power is unprecedented and un-American.\" Several U.S. politicians agreed with Hughes. European Union Commissioner for Competition Margrethe Vestager stated that splitting Facebook should be done only as \"a remedy of the very last resort\", and that it would not solve Facebook underlying problems. Facebook ranked No. in the Fortune list of the largest United States corporations by revenue, with almost $ billion in revenue. Most comes from advertising. One analysis of data determined that the company earned US$ . per user from advertising. According to New York, since its rebranding, Meta has reportedly lost $ billion as a result of new privacy measures put in place by companies such as Apple and Google which prevents Meta from gathering users\\' data. In February , Facebook announced it had reached two million active advertisers, with most of the gain coming from small businesses. An active advertiser was defined as an entity that had advertised on the Facebook platform in the last days. In March , Facebook announced it had reached three million active advertisers with more than % from outside the United States. Prices for advertising follow a variable pricing model based on auctioning ad placements, and potential engagement levels of the advertisement itself. Similar to other online advertising platforms like Google and Twitter, targeting of advertisements is one of the chief merits of digital advertising compared to traditional media. Marketing on Meta is employed through two methods based on the viewing habits, likes and shares, and purchasing data of the audience, namely targeted audiences and \"look alike\" audiences. The US IRS challenged the valuation Facebook used when it transferred IP from the US to Facebook Ireland (now Meta Platforms Ireland) in (which Facebook Ireland then revalued higher before charging out), as it was building its double Irish tax structure. The case is ongoing and Meta faces a potential fine of $ – bn. The US Tax Cuts and Jobs Act of changed Facebook global tax calculations. Meta Platforms Ireland is subject to the US GILTI tax of . % on global intangible profits (i.e. Irish profits). On the basis that Meta Platforms Ireland Limited is paying some tax, the effective minimum US tax for Facebook Ireland will be circa %. In contrast, Meta Platforms Inc. would incur a special IP tax rate of . % (the FDII rate) if its Irish business relocated to the US. Tax relief in the US ( % vs. Irish at the GILTI rate) and accelerated capital expensing, would make this effective US rate around %. The insignificance of the US/Irish tax difference was demonstrated when Facebook moved . bn non-EU accounts to the US to limit exposure to GDPR. Users outside of the US and Canada contract with Meta Irish subsidiary, Meta Platforms Ireland Limited (formerly Facebook Ireland Limited), allowing Meta to avoid US taxes for all users in Europe, Asia, Australia, Africa and South America. Meta is making use of the Double Irish arrangement which allows it to pay – % corporation tax on all international revenue. In , Facebook opened its fourth office, in Hyderabad, India, which houses online advertising and developer support teams and provides support to users and advertisers. In India, Meta is registered as Facebook India Online Services Pvt Ltd. , It also has support centers in Chittagong; Dublin;[clarification needed] California; Ireland; and Austin, Texas. [not specific enough to verify] Facebook opened its London headquarters in in Fitzrovia in central London. Facebook opened an office in Cambridge, Massachusetts in . The offices were initially home to the \"Connectivity Lab\", a group focused on bringing Internet access to those who do not have access to the Internet. In April , Facebook opened its Taiwan headquarters in Taipei. In March , Meta opened new regional headquarters in Dubai. Entrance to Metas headquarters complex in Menlo Park, California Entrance to Facebooks previous headquarters in the Stanford Research Park, Palo Alto, California Inside the Facebook headquarters in As of , Facebook operated data centers. It committed to purchase % renewable energy and to reduce its greenhouse gas emissions % by . Its data center technologies include Fabric Aggregator, a distributed network system that accommodates larger regions and varied traffic patterns. US Representative Alexandria Ocasio-Cortez responded in a tweet to Zuckerbergs announcement about Meta, saying: \"Meta as in \\'we are a cancer to democracy metastasizing into a global surveillance and propaganda machine for boosting authoritarian regimes and destroying civil society ... for profit!\\'\" Ex-Facebook employee Frances Haugen and whistleblower behind the Facebook Papers responded to the rebranding efforts by expressing doubts about the companys ability to improve while led by Mark Zuckerberg, and urged the CEO to resign. In November , a video published by Inspired by Iceland went viral, in which a Zuckerberg look-alike promoted the Icelandverse, a place of \"enhanced actual reality without silly looking headsets.\" In a December interview, SpaceX and Tesla CEO Elon Musk said he could not see a compelling use-case for the VR-driven metaverse, adding: \"I do not see someone strapping a frigging screen to their face all day.\" In January , Louise Eccles of The Sunday Times logged into the metaverse with the intention of making a video guide. She wrote: Initially, my experience with the Oculus went well. I attended work meetings as an avatar and tried an exercise class set in the streets of Paris. The headset enabled me to feel the thrill of carving down mountains on a snowboard and the adrenaline rush of climbing a mountain without ropes. Yet switching to the social apps, where you mingle with strangers also using VR headsets, it was at times predatory and vile.Eccles described being sexually harassed by another user, as well as \"accents from all over the world, American, Indian, English, Australian, using racist, sexist, homophobic and transphobic language\". She also encountered users as young as years old on the platform, despite Oculus headsets being intended for users over'\n"
     ]
    }
   ],
   "source": [
    "print(input_text)"
   ]
  },
  {
   "cell_type": "code",
   "execution_count": 7,
   "metadata": {},
   "outputs": [],
   "source": [
    "file_name = 'sample_input.txt'"
   ]
  },
  {
   "cell_type": "markdown",
   "metadata": {},
   "source": [
    "#### C. Perform real-time inference"
   ]
  },
  {
   "cell_type": "code",
   "execution_count": 8,
   "metadata": {},
   "outputs": [
    {
     "name": "stdout",
     "output_type": "stream",
     "text": [
      "{\r\n",
      "    \"ContentType\": \"application/json\",\r\n",
      "    \"InvokedProductionVariant\": \"AllTraffic\"\r\n",
      "}\r\n"
     ]
    }
   ],
   "source": [
    "!aws sagemaker-runtime invoke-endpoint --endpoint-name $model_name --body fileb://$file_name --content-type 'text/plain' --region us-east-2 output.json"
   ]
  },
  {
   "cell_type": "markdown",
   "metadata": {},
   "source": [
    "#### D. Output Result\n",
    "\n",
    "- The output file (in json format) contains the following files:\n",
    "\n",
    "    1. 'output.json': List of dictionary containing extracted Legal names and general names of any organization.\n"
   ]
  },
  {
   "cell_type": "code",
   "execution_count": 9,
   "metadata": {},
   "outputs": [],
   "source": [
    "import json\n",
    "file_path = os.getcwd()\n",
    "file_name = 'output.json'\n",
    "\n",
    "#file_object = open(file_name,'rb')\n",
    "with open(file_name,'r') as f:\n",
    "    json_array=json.load(f)"
   ]
  },
  {
   "cell_type": "code",
   "execution_count": 10,
   "metadata": {},
   "outputs": [
    {
     "data": {
      "text/plain": [
       "[{'legal_entity': 'apple inc.', 'aka': ['apple', 'apple inc.']},\n",
       " {'legal_entity': ['facebook inc.',\n",
       "   'facebook india online services pvt ltd.',\n",
       "   'facebook platform cooperative'],\n",
       "  'aka': ['facebook',\n",
       "   'facebook india online services pvt ltd.',\n",
       "   'facebook inc.',\n",
       "   'facebook platform cooperative',\n",
       "   'facebook watch']},\n",
       " {'legal_entity': 'libra association',\n",
       "  'aka': ['libra networks', 'libra association']},\n",
       " {'legal_entity': 'meta platforms inc.',\n",
       "  'aka': ['meta',\n",
       "   'meta portal',\n",
       "   'meta platforms ireland',\n",
       "   'meta board',\n",
       "   'meta platforms inc.']}]"
      ]
     },
     "execution_count": 10,
     "metadata": {},
     "output_type": "execute_result"
    }
   ],
   "source": [
    "json_array"
   ]
  },
  {
   "cell_type": "markdown",
   "metadata": {},
   "source": [
    "#### E. Delete the endpoint"
   ]
  },
  {
   "cell_type": "markdown",
   "metadata": {},
   "source": [
    "Now that you have successfully performed a real-time inference, you do not need the endpoint any more. You can terminate the endpoint to avoid being charged."
   ]
  },
  {
   "cell_type": "code",
   "execution_count": 11,
   "metadata": {},
   "outputs": [],
   "source": [
    "predictor=sage.predictor.Predictor(model_name, sagemaker_session,content_type)\n",
    "predictor.delete_endpoint(delete_endpoint_config=True)"
   ]
  },
  {
   "cell_type": "markdown",
   "metadata": {},
   "source": [
    "### 3. Perform batch inference"
   ]
  },
  {
   "cell_type": "markdown",
   "metadata": {},
   "source": [
    "In this section, you will perform batch inference using multiple input payloads together. If you are not familiar with batch transform, and want to learn more, see these links:\n",
    "1. [How it works](https://docs.aws.amazon.com/sagemaker/latest/dg/ex1-batch-transform.html)\n",
    "2. [How to run a batch transform job](https://docs.aws.amazon.com/sagemaker/latest/dg/how-it-works-batch.html)"
   ]
  },
  {
   "cell_type": "code",
   "execution_count": null,
   "metadata": {},
   "outputs": [],
   "source": [
    "#upload the batch-transform job input files to S3\n",
    "transform_input_folder = \"data/input/batch\"\n",
    "transform_input = sagemaker_session.upload_data(transform_input_folder, key_prefix=model_name) \n",
    "print(\"Transform input uploaded to \" + transform_input)"
   ]
  },
  {
   "cell_type": "code",
   "execution_count": null,
   "metadata": {},
   "outputs": [],
   "source": [
    "#Run the batch-transform job\n",
    "transformer = model.transformer(1, batch_transform_inference_instance_type)\n",
    "transformer.transform(transform_input, content_type=content_type)\n",
    "transformer.wait()"
   ]
  },
  {
   "cell_type": "code",
   "execution_count": null,
   "metadata": {},
   "outputs": [],
   "source": [
    "#output is available on following path\n",
    "transformer.output_path"
   ]
  },
  {
   "cell_type": "code",
   "execution_count": null,
   "metadata": {},
   "outputs": [],
   "source": [
    "s3_conn = boto3.client(\"s3\")\n",
    "bucket_name=\"sagemaker-us-east-2-786796469737\"\n",
    "with open('output.json', 'wb') as f:\n",
    "    s3_conn.download_fileobj(bucket_name, os.path.basename(transformer.output_path)+'/sample_input.txt.out', f)\n",
    "    print(\"Output file loaded from bucket\")"
   ]
  },
  {
   "cell_type": "code",
   "execution_count": 16,
   "metadata": {},
   "outputs": [],
   "source": [
    "import json\n",
    "file_path = os.getcwd()\n",
    "file_name = 'output.json'\n",
    "\n",
    "#file_object = open(file_name,'rb')\n",
    "with open(file_name,'r') as f:\n",
    "    json_array=json.load(f)"
   ]
  },
  {
   "cell_type": "code",
   "execution_count": 17,
   "metadata": {},
   "outputs": [
    {
     "data": {
      "text/plain": [
       "[{'legal_entity': 'apple inc.', 'aka': ['apple inc.', 'apple']},\n",
       " {'legal_entity': ['facebook inc.',\n",
       "   'facebook india online services pvt ltd.',\n",
       "   'facebook platform cooperative'],\n",
       "  'aka': ['facebook india online services pvt ltd.',\n",
       "   'facebook inc.',\n",
       "   'facebook',\n",
       "   'facebook watch',\n",
       "   'facebook platform cooperative']},\n",
       " {'legal_entity': 'libra association',\n",
       "  'aka': ['libra networks', 'libra association']},\n",
       " {'legal_entity': 'meta platforms inc.',\n",
       "  'aka': ['meta platforms ireland',\n",
       "   'meta platforms inc.',\n",
       "   'meta',\n",
       "   'meta board',\n",
       "   'meta portal']}]"
      ]
     },
     "execution_count": 17,
     "metadata": {},
     "output_type": "execute_result"
    }
   ],
   "source": [
    "json_array"
   ]
  },
  {
   "cell_type": "markdown",
   "metadata": {},
   "source": [
    "### 4. Clean-up"
   ]
  },
  {
   "cell_type": "markdown",
   "metadata": {},
   "source": [
    "#### A. Delete the model"
   ]
  },
  {
   "cell_type": "code",
   "execution_count": 18,
   "metadata": {},
   "outputs": [],
   "source": [
    "model.delete_model()"
   ]
  },
  {
   "cell_type": "markdown",
   "metadata": {},
   "source": [
    "#### B. Unsubscribe to the listing (optional)"
   ]
  },
  {
   "cell_type": "markdown",
   "metadata": {},
   "source": [
    "If you would like to unsubscribe to the model package, follow these steps. Before you cancel the subscription, ensure that you do not have any [deployable model](https://console.aws.amazon.com/sagemaker/home#/models) created from the model package or using the algorithm. Note - You can find this information by looking at the container name associated with the model. \n",
    "\n",
    "**Steps to unsubscribe to product from AWS Marketplace**:\n",
    "1. Navigate to __Machine Learning__ tab on [__Your Software subscriptions page__](https://aws.amazon.com/marketplace/ai/library?productType=ml&ref_=mlmp_gitdemo_indust)\n",
    "2. Locate the listing that you want to cancel the subscription for, and then choose __Cancel Subscription__  to cancel the subscription."
   ]
  }
 ],
 "metadata": {
  "kernelspec": {
   "display_name": "conda_mxnet_p36",
   "language": "python",
   "name": "conda_mxnet_p36"
  },
  "language_info": {
   "codemirror_mode": {
    "name": "ipython",
    "version": 3
   },
   "file_extension": ".py",
   "mimetype": "text/x-python",
   "name": "python",
   "nbconvert_exporter": "python",
   "pygments_lexer": "ipython3",
   "version": "3.6.13"
  }
 },
 "nbformat": 4,
 "nbformat_minor": 2
}
